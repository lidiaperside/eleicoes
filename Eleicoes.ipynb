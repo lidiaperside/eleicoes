{
  "nbformat": 4,
  "nbformat_minor": 0,
  "metadata": {
    "colab": {
      "provenance": [],
      "authorship_tag": "ABX9TyPTpWx29wTyh8XmRqb4mGYC",
      "include_colab_link": true
    },
    "kernelspec": {
      "name": "python3",
      "display_name": "Python 3"
    },
    "language_info": {
      "name": "python"
    }
  },
  "cells": [
    {
      "cell_type": "markdown",
      "metadata": {
        "id": "view-in-github",
        "colab_type": "text"
      },
      "source": [
        "<a href=\"https://colab.research.google.com/github/lidiaperside/eleicoes/blob/main/Eleicoes.ipynb\" target=\"_parent\"><img src=\"https://colab.research.google.com/assets/colab-badge.svg\" alt=\"Open In Colab\"/></a>"
      ]
    },
    {
      "cell_type": "markdown",
      "source": [
        "#**Descriptografando os dados**"
      ],
      "metadata": {
        "id": "vbIFHMPJl_-n"
      }
    },
    {
      "cell_type": "code",
      "source": [
        "!curl -s https://raw.githubusercontent.com/andre-marcos-perez/ebac-course-utils/develop/notebooks/2022_11_29/rdv.py -o rdv.py"
      ],
      "metadata": {
        "id": "bamgYxoFYPjM"
      },
      "execution_count": 1,
      "outputs": []
    },
    {
      "cell_type": "code",
      "source": [
        "!pip install asn1crypto==1.5.1"
      ],
      "metadata": {
        "colab": {
          "base_uri": "https://localhost:8080/"
        },
        "id": "VHtUGSq-mtsH",
        "outputId": "2a0d3bba-5dbc-4091-b9cc-43d693ccb8d8"
      },
      "execution_count": 2,
      "outputs": [
        {
          "output_type": "stream",
          "name": "stdout",
          "text": [
            "Looking in indexes: https://pypi.org/simple, https://us-python.pkg.dev/colab-wheels/public/simple/\n",
            "Collecting asn1crypto==1.5.1\n",
            "  Downloading asn1crypto-1.5.1-py2.py3-none-any.whl (105 kB)\n",
            "\u001b[2K     \u001b[90m━━━━━━━━━━━━━━━━━━━━━━━━━━━━━━━━━━━━━━━\u001b[0m \u001b[32m105.0/105.0 KB\u001b[0m \u001b[31m7.8 MB/s\u001b[0m eta \u001b[36m0:00:00\u001b[0m\n",
            "\u001b[?25hInstalling collected packages: asn1crypto\n",
            "Successfully installed asn1crypto-1.5.1\n"
          ]
        }
      ]
    },
    {
      "cell_type": "code",
      "source": [
        "!python rdv.py -r o00407-2207100040241.rdv > rdv.txt"
      ],
      "metadata": {
        "colab": {
          "base_uri": "https://localhost:8080/"
        },
        "id": "Cxjxze_rm1Ta",
        "outputId": "d5fdb2b7-26a6-4fcc-9777-d0f0ae27a1e8"
      },
      "execution_count": 3,
      "outputs": [
        {
          "output_type": "stream",
          "name": "stdout",
          "text": [
            "2023-03-03 17:53:47,844 - INFO - Converte RDV o00407-2207100040241.rdv\n"
          ]
        }
      ]
    },
    {
      "cell_type": "markdown",
      "source": [
        "####**Limpando os dados**"
      ],
      "metadata": {
        "id": "NA-pDdXpnB5T"
      }
    },
    {
      "cell_type": "code",
      "source": [
        "content = []\n",
        "\n",
        "with open(file=\"rdv.txt\", mode=\"r\") as fp:\n",
        "  for line in fp.readlines():\n",
        "    if \"Governador\" in line:\n",
        "      break\n",
        "    else:\n",
        "      content.append(line) "
      ],
      "metadata": {
        "id": "1IbtBM-cnI1z"
      },
      "execution_count": 4,
      "outputs": []
    },
    {
      "cell_type": "code",
      "source": [
        "len(content)"
      ],
      "metadata": {
        "colab": {
          "base_uri": "https://localhost:8080/"
        },
        "id": "txgubDrbnOeA",
        "outputId": "67b33243-e017-49c3-b467-ee50f730927f"
      },
      "execution_count": 5,
      "outputs": [
        {
          "output_type": "execute_result",
          "data": {
            "text/plain": [
              "250"
            ]
          },
          "metadata": {},
          "execution_count": 5
        }
      ]
    },
    {
      "cell_type": "code",
      "source": [
        "for line in content[0:10]:\n",
        "  print(line)"
      ],
      "metadata": {
        "colab": {
          "base_uri": "https://localhost:8080/"
        },
        "id": "igu--G9PnRbx",
        "outputId": "3b03dc2d-b0ef-47a7-bb7a-9394184ca6cc"
      },
      "execution_count": 6,
      "outputs": [
        {
          "output_type": "stream",
          "name": "stdout",
          "text": [
            "========================================\n",
            "\n",
            "----------------------------------------\n",
            "\n",
            "Presidente\n",
            "\n",
            "  1 - nominal  - [13]\n",
            "\n",
            "  2 - nominal  - [13]\n",
            "\n",
            "  3 - nominal  - [13]\n",
            "\n",
            "  4 - nominal  - [13]\n",
            "\n",
            "  5 - nominal  - [13]\n",
            "\n",
            "  6 - nominal  - [13]\n",
            "\n",
            "  7 - nominal  - [13]\n",
            "\n"
          ]
        }
      ]
    },
    {
      "cell_type": "markdown",
      "source": [
        "####**Extração de dados**"
      ],
      "metadata": {
        "id": "uP09wTKknWfa"
      }
    },
    {
      "cell_type": "code",
      "source": [
        "import re\n",
        "\n",
        "pattern = re.compile(pattern=\"\\[(.*?)\\]\")"
      ],
      "metadata": {
        "id": "mfPrwNP5nUVr"
      },
      "execution_count": 7,
      "outputs": []
    },
    {
      "cell_type": "code",
      "source": [
        "votes = []\n",
        "\n",
        "for line in content:\n",
        "\n",
        "  if \"branco\" in line:\n",
        "\n",
        "    votes.append({\"voto\": \"branco\", \"quantidade\": 1})\n",
        "\n",
        "  if \"nulo\" in line:\n",
        "\n",
        "    votes.append({\"voto\": \"nulo\", \"quantidade\": 1})\n",
        "\n",
        "  if \"nominal\" in line:\n",
        "\n",
        "    vote = re.findall(pattern=pattern, string=line)[0]\n",
        "    votes.append({\"voto\": f\"{vote}\", \"quantidade\": 1})"
      ],
      "metadata": {
        "id": "xGgmSICmnguH"
      },
      "execution_count": 8,
      "outputs": []
    },
    {
      "cell_type": "code",
      "source": [
        "len(votes)\n",
        "\n",
        "for vote in votes[0:10]:\n",
        "  print(vote)"
      ],
      "metadata": {
        "colab": {
          "base_uri": "https://localhost:8080/"
        },
        "id": "otzMDk87nmJU",
        "outputId": "15b0b756-1902-40e3-9c81-8968dc94e5ca"
      },
      "execution_count": 9,
      "outputs": [
        {
          "output_type": "stream",
          "name": "stdout",
          "text": [
            "{'voto': '13', 'quantidade': 1}\n",
            "{'voto': '13', 'quantidade': 1}\n",
            "{'voto': '13', 'quantidade': 1}\n",
            "{'voto': '13', 'quantidade': 1}\n",
            "{'voto': '13', 'quantidade': 1}\n",
            "{'voto': '13', 'quantidade': 1}\n",
            "{'voto': '13', 'quantidade': 1}\n",
            "{'voto': '13', 'quantidade': 1}\n",
            "{'voto': '13', 'quantidade': 1}\n",
            "{'voto': '13', 'quantidade': 1}\n"
          ]
        }
      ]
    },
    {
      "cell_type": "markdown",
      "source": [
        "####**Processamento de dados**"
      ],
      "metadata": {
        "id": "ZXg3Trqknq5s"
      }
    },
    {
      "cell_type": "code",
      "source": [],
      "metadata": {
        "id": "ZByoXeWhnuyo"
      },
      "execution_count": null,
      "outputs": []
    }
  ]
}